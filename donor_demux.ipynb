{
 "cells": [
  {
   "cell_type": "code",
   "execution_count": null,
   "id": "9e08e87f",
   "metadata": {},
   "outputs": [],
   "source": [
    "import numpy as np\n",
    "import pandas as pd\n",
    "import scanpy as sc\n",
    "from pathlib import Path"
   ]
  },
  {
   "cell_type": "code",
   "execution_count": null,
   "id": "72932e28-105f-48bb-a0bf-8c90a80656c2",
   "metadata": {},
   "outputs": [],
   "source": [
    "dat1 = sc.read_10x_mtx(\"/Users/jonathankropski/Desktop/9875_raw/9875_1/soupx\")\n",
    "demuxafy = pd.read_table(\"/Users/jonathankropski/Desktop/output/combined/9875_1/combined_results.tsv\", sep=\"\\t\")\n",
    "dat1 = dat1[np.isin(dat1.obs.index,demuxafy[\"Barcode\"])]\n",
    "dat1_obs = pd.DataFrame(dat1.obs)\n",
    "dat1_obs['Barcode'] = dat1.obs.index\n",
    "demuxafy_ordered = dat1_obs.merge(demuxafy, on = \"Barcode\")\n",
    "demuxafy_ordered.index = demuxafy_ordered[\"Barcode\"]\n",
    "dat1.obs = demuxafy_ordered\n",
    "results_file='/Users/jonathankropski/Desktop/output/9875_1.h5ad'\n",
    "dat1.write(results_file)\n",
    "dat1"
   ]
  },
  {
   "cell_type": "code",
   "execution_count": null,
   "id": "c219c2e5-79a0-4f2e-a441-e94eaed82b6e",
   "metadata": {},
   "outputs": [],
   "source": [
    "dat2 = sc.read_10x_mtx(\"/Users/jonathankropski/Desktop/9875_raw/9875_2/soupx\")\n",
    "demuxafy = pd.read_table(\"/Users/jonathankropski/Desktop/output/combined/9875_2/combined_results.tsv\", sep=\"\\t\")\n",
    "dat2 = dat2[np.isin(dat2.obs.index,demuxafy[\"Barcode\"])]\n",
    "dat2_obs = pd.DataFrame(dat2.obs)\n",
    "dat2_obs['Barcode'] = dat2.obs.index\n",
    "demuxafy_ordered = dat2_obs.merge(demuxafy, on = \"Barcode\")\n",
    "demuxafy_ordered.index = demuxafy_ordered[\"Barcode\"]\n",
    "dat2.obs = demuxafy_ordered\n",
    "results_file='/Users/jonathankropski/Desktop/output/9875_2.h5ad'\n",
    "dat2.write(results_file)\n",
    "dat2"
   ]
  },
  {
   "cell_type": "code",
   "execution_count": null,
   "id": "451b75f6-e6c2-43e7-921e-75dfd323183f",
   "metadata": {},
   "outputs": [],
   "source": [
    "dat3 = sc.read_10x_mtx(\"/Users/jonathankropski/Desktop/9875_raw/9875_3/soupx\")\n",
    "demuxafy = pd.read_table(\"/Users/jonathankropski/Desktop/output/combined/9875_3/combined_results.tsv\", sep=\"\\t\")\n",
    "dat3 = dat3[np.isin(dat3.obs.index,demuxafy[\"Barcode\"])]\n",
    "dat3_obs = pd.DataFrame(dat3.obs)\n",
    "dat3_obs['Barcode'] = dat3.obs.index\n",
    "demuxafy_ordered = dat3_obs.merge(demuxafy, on = \"Barcode\")\n",
    "demuxafy_ordered.index = demuxafy_ordered[\"Barcode\"]\n",
    "dat3.obs = demuxafy_ordered\n",
    "results_file='/Users/jonathankropski/Desktop/output/9875_3.h5ad'\n",
    "dat3.write(results_file)\n",
    "dat3"
   ]
  },
  {
   "cell_type": "code",
   "execution_count": null,
   "id": "51ba7626-2f86-4ea9-9d59-ed0aefeba212",
   "metadata": {},
   "outputs": [],
   "source": [
    "dat4 = sc.read_10x_mtx(\"/Users/jonathankropski/Desktop/9875_raw/9875_4/soupx\")\n",
    "demuxafy = pd.read_table(\"/Users/jonathankropski/Desktop/output/combined/9875_4/combined_results.tsv\", sep=\"\\t\")\n",
    "dat4 = dat4[np.isin(dat4.obs.index,demuxafy[\"Barcode\"])]\n",
    "dat4_obs = pd.DataFrame(dat4.obs)\n",
    "dat4_obs['Barcode'] = dat4.obs.index\n",
    "demuxafy_ordered = dat4_obs.merge(demuxafy, on = \"Barcode\")\n",
    "demuxafy_ordered.index = demuxafy_ordered[\"Barcode\"]\n",
    "dat4.obs = demuxafy_ordered\n",
    "results_file='/Users/jonathankropski/Desktop/output/9875_4.h5ad'\n",
    "dat4.write(results_file)\n",
    "dat4"
   ]
  },
  {
   "cell_type": "code",
   "execution_count": null,
   "id": "33750493",
   "metadata": {},
   "outputs": [],
   "source": [
    "sc.set_figure_params(dpi=100)"
   ]
  },
  {
   "cell_type": "code",
   "execution_count": null,
   "id": "d177618c-cb0f-456c-9b0c-36f86e4eefbc",
   "metadata": {},
   "outputs": [],
   "source": [
    "dat1 = sc.read('/Users/jonathankropski/Desktop/output/9875_1.h5ad')\n",
    "dat1.var_names_make_unique()\n",
    "\n",
    "dat1.obs.loc[dat1.obs[\"Vireo_Individual_Assignment\"].isin(['donor0']), \"sample\"] = \"1_0\"\n",
    "dat1.obs.loc[dat1.obs[\"Vireo_Individual_Assignment\"].isin(['donor1']), \"sample\"] = \"1_1\"\n",
    "dat1.obs.loc[dat1.obs[\"Vireo_Individual_Assignment\"].isin(['donor2']), \"sample\"] = \"1_2\"\n",
    "dat1.obs.loc[dat1.obs[\"Vireo_Individual_Assignment\"].isin(['donor3']), \"sample\"] = \"1_3\"\n",
    "dat1.obs.loc[dat1.obs[\"Vireo_Individual_Assignment\"].isin(['donor4']), \"sample\"] = \"1_4\"\n",
    "\n",
    "dat1"
   ]
  },
  {
   "cell_type": "code",
   "execution_count": null,
   "id": "c3835842-2ee0-4fe8-976e-36729b2f6505",
   "metadata": {},
   "outputs": [],
   "source": [
    "dat2 = sc.read('/Users/jonathankropski/Desktop/output/9875_2.h5ad')\n",
    "dat2.var_names_make_unique()\n",
    "\n",
    "dat2.obs.loc[dat2.obs[\"Vireo_Individual_Assignment\"].isin(['donor0']), \"sample\"] = \"2_0\"\n",
    "dat2.obs.loc[dat2.obs[\"Vireo_Individual_Assignment\"].isin(['donor1']), \"sample\"] = \"2_1\"\n",
    "dat2.obs.loc[dat2.obs[\"Vireo_Individual_Assignment\"].isin(['donor2']), \"sample\"] = \"2_2\"\n",
    "dat2.obs.loc[dat2.obs[\"Vireo_Individual_Assignment\"].isin(['donor3']), \"sample\"] = \"2_3\"\n",
    "dat2.obs.loc[dat2.obs[\"Vireo_Individual_Assignment\"].isin(['donor4']), \"sample\"] = \"2_4\""
   ]
  },
  {
   "cell_type": "code",
   "execution_count": null,
   "id": "b6013a65-590c-4a81-beb0-04798c9e41c6",
   "metadata": {},
   "outputs": [],
   "source": [
    "dat3 = sc.read('/Users/jonathankropski/Desktop/output/9875_3.h5ad')\n",
    "dat3.var_names_make_unique()\n",
    "\n",
    "dat3.obs.loc[dat3.obs[\"Vireo_Individual_Assignment\"].isin(['donor0']), \"sample\"] = \"3_0\"\n",
    "dat3.obs.loc[dat3.obs[\"Vireo_Individual_Assignment\"].isin(['donor1']), \"sample\"] = \"3_1\"\n",
    "dat3.obs.loc[dat3.obs[\"Vireo_Individual_Assignment\"].isin(['donor2']), \"sample\"] = \"3_2\"\n",
    "dat3.obs.loc[dat3.obs[\"Vireo_Individual_Assignment\"].isin(['donor3']), \"sample\"] = \"3_3\"\n",
    "dat3.obs.loc[dat3.obs[\"Vireo_Individual_Assignment\"].isin(['donor4']), \"sample\"] = \"3_4\""
   ]
  },
  {
   "cell_type": "code",
   "execution_count": null,
   "id": "28b97b53-6685-4094-b218-4a117a602797",
   "metadata": {},
   "outputs": [],
   "source": [
    "dat4 = sc.read('/Users/jonathankropski/Desktop/output/9875_4.h5ad')\n",
    "dat4.var_names_make_unique()\n",
    "\n",
    "dat4.obs.loc[dat4.obs[\"Vireo_Individual_Assignment\"].isin(['donor0']), \"sample\"] = \"4_0\"\n",
    "dat4.obs.loc[dat4.obs[\"Vireo_Individual_Assignment\"].isin(['donor1']), \"sample\"] = \"4_1\"\n",
    "dat4.obs.loc[dat4.obs[\"Vireo_Individual_Assignment\"].isin(['donor2']), \"sample\"] = \"4_2\"\n",
    "dat4.obs.loc[dat4.obs[\"Vireo_Individual_Assignment\"].isin(['donor3']), \"sample\"] = \"4_3\"\n",
    "dat4.obs.loc[dat4.obs[\"Vireo_Individual_Assignment\"].isin(['donor4']), \"sample\"] = \"4_4\""
   ]
  },
  {
   "cell_type": "code",
   "execution_count": null,
   "id": "19f35738",
   "metadata": {
    "scrolled": true
   },
   "outputs": [],
   "source": [
    "adata = dat1.concatenate(dat2,dat3,dat4, batch_key='library', batch_categories=['SFFFM', 'SFFFM + PT-2385', 'ADM', 'ADM + PT-2385'])\n",
    "adata"
   ]
  },
  {
   "cell_type": "code",
   "execution_count": null,
   "id": "388ebeba-3197-4877-a60d-68b9934df53e",
   "metadata": {},
   "outputs": [],
   "source": [
    "adata.obs.loc[adata.obs[\"sample\"].isin(['1_0', '2_0', '3_0', '4_0']), \"subject\"] = \"Donor_01\"\n",
    "adata.obs.loc[adata.obs[\"sample\"].isin(['1_1', '2_1', '3_1', '4_3']), \"subject\"] = \"Donor_02\"\n",
    "adata.obs.loc[adata.obs[\"sample\"].isin(['1_2', '2_2', '3_4', '4_4']), \"subject\"] = \"Donor_03\"\n",
    "adata.obs.loc[adata.obs[\"sample\"].isin(['1_3', '2_4', '3_2', '4_1']), \"subject\"] = \"Donor_04\"\n",
    "adata.obs.loc[adata.obs[\"sample\"].isin(['1_4', '2_3', '3_3', '4_2']), \"subject\"] = \"Donor_05\"\n",
    "\n"
   ]
  },
  {
   "cell_type": "code",
   "execution_count": null,
   "id": "30adc38d-975f-4b97-a718-e420f102fa42",
   "metadata": {},
   "outputs": [],
   "source": [
    "adata.obs.loc[adata.obs[\"sample\"].isin(['1_0']), \"condition\"] = \"Donor_01_SFFFM_Veh\"\n",
    "adata.obs.loc[adata.obs[\"sample\"].isin(['2_0']), \"condition\"] = \"Donor_01_SFFFM_PT-2385\"\n",
    "adata.obs.loc[adata.obs[\"sample\"].isin(['3_0']), \"condition\"] = \"Donor_01_ADM_Veh\"\n",
    "adata.obs.loc[adata.obs[\"sample\"].isin(['4_0']), \"condition\"] = \"Donor_01_ADM_PT-2385\"\n",
    "\n",
    "adata.obs.loc[adata.obs[\"sample\"].isin(['1_1']), \"condition\"] = \"Donor_02_SFFFM_Veh\"\n",
    "adata.obs.loc[adata.obs[\"sample\"].isin(['2_1']), \"condition\"] = \"Donor_02_SFFFM_PT-2385\"\n",
    "adata.obs.loc[adata.obs[\"sample\"].isin(['3_1']), \"condition\"] = \"Donor_02_ADM_Veh\"\n",
    "adata.obs.loc[adata.obs[\"sample\"].isin(['4_3']), \"condition\"] = \"Donor_02_ADM_PT-2385\"\n",
    "\n",
    "adata.obs.loc[adata.obs[\"sample\"].isin(['1_2']), \"condition\"] = \"Donor_03_SFFFM_Veh\"\n",
    "adata.obs.loc[adata.obs[\"sample\"].isin(['2_1']), \"condition\"] = \"Donor_03_SFFFM_PT-2385\"\n",
    "adata.obs.loc[adata.obs[\"sample\"].isin(['3_4']), \"condition\"] = \"Donor_03_ADM_Veh\"\n",
    "adata.obs.loc[adata.obs[\"sample\"].isin(['4_4']), \"condition\"] = \"Donor_03_ADM_PT-2385\"\n",
    "\n",
    "adata.obs.loc[adata.obs[\"sample\"].isin(['1_3']), \"condition\"] = \"Donor_04_SFFFM_Veh\"\n",
    "adata.obs.loc[adata.obs[\"sample\"].isin(['2_4']), \"condition\"] = \"Donor_04_SFFFM_PT-2385\"\n",
    "adata.obs.loc[adata.obs[\"sample\"].isin(['3_2']), \"condition\"] = \"Donor_04_ADM_Veh\"\n",
    "adata.obs.loc[adata.obs[\"sample\"].isin(['4_1']), \"condition\"] = \"Donor_04_ADM_PT-2385\"\n",
    "\n",
    "adata.obs.loc[adata.obs[\"sample\"].isin(['1_4']), \"condition\"] = \"Donor_05_SFFFM_Veh\"\n",
    "adata.obs.loc[adata.obs[\"sample\"].isin(['2_3']), \"condition\"] = \"Donor_05_SFFFM_PT-2385\"\n",
    "adata.obs.loc[adata.obs[\"sample\"].isin(['3_3']), \"condition\"] = \"Donor_05_ADM_Veh\"\n",
    "adata.obs.loc[adata.obs[\"sample\"].isin(['4_2']), \"condition\"] = \"Donor_05_ADM_PT-2385\""
   ]
  },
  {
   "cell_type": "code",
   "execution_count": null,
   "id": "dec33ed6-4db0-4755-9c5e-b6438273e712",
   "metadata": {},
   "outputs": [],
   "source": [
    "adata.obs['condition'] = adata.obs['condition'].astype('category')\n",
    "adata.obs['sample'] = adata.obs['sample'].astype('category')"
   ]
  },
  {
   "cell_type": "code",
   "execution_count": null,
   "id": "24b5ab85-f66c-4c93-8678-98233bac75c7",
   "metadata": {},
   "outputs": [],
   "source": [
    "adata = adata[adata.obs['Vireo_DropletType'].isin(['singlet'])]\n",
    "adata"
   ]
  },
  {
   "cell_type": "code",
   "execution_count": null,
   "id": "393a4130-bdd8-4b28-9b6f-9cf681945873",
   "metadata": {},
   "outputs": [],
   "source": [
    "results_file = './9875_demux.h5ad'\n",
    "adata.write(results_file)"
   ]
  },
  {
   "cell_type": "code",
   "execution_count": null,
   "id": "fdc24822",
   "metadata": {},
   "outputs": [],
   "source": [
    "adata.var['mt'] = adata.var_names.str.startswith('MT-')  # annotate the group of mitochondrial genes as 'mt'\n",
    "adata.var['rb'] = adata.var_names.str.startswith('RP')  # annotate the group of mitochondrial genes as 'mt'\n",
    "sc.pp.calculate_qc_metrics(adata, qc_vars=['mt', 'rb'], percent_top=None, log1p=False, inplace=True)\n",
    "sc.pp.filter_cells(adata, min_genes=500)\n",
    "sc.pp.filter_genes(adata, min_cells=3)\n",
    "adata"
   ]
  },
  {
   "cell_type": "code",
   "execution_count": null,
   "id": "ed5d7d4e",
   "metadata": {},
   "outputs": [],
   "source": [
    "#adata = adata[adata.obs.n_genes_by_counts < 10000, :]\n",
    "adata = adata[adata.obs.pct_counts_mt < 10, :]\n",
    "adata"
   ]
  },
  {
   "cell_type": "code",
   "execution_count": null,
   "id": "1a553a57",
   "metadata": {},
   "outputs": [],
   "source": [
    "adata = adata[adata.obs['Vireo_DropletType'].isin(['singlet'])]\n",
    "adata"
   ]
  },
  {
   "cell_type": "code",
   "execution_count": null,
   "id": "9b56e81b-120d-4b19-8a33-554fdd854cca",
   "metadata": {},
   "outputs": [],
   "source": [
    "#adata = adata[adata.obs['scDblFinder_DropletType'].isin(['singlet'])]\n",
    "#adata"
   ]
  },
  {
   "cell_type": "code",
   "execution_count": null,
   "id": "291fa482",
   "metadata": {},
   "outputs": [],
   "source": [
    "sc.pp.normalize_total(adata, target_sum=1e4)\n",
    "sc.pp.log1p(adata)"
   ]
  },
  {
   "cell_type": "code",
   "execution_count": null,
   "id": "de6c7abc",
   "metadata": {},
   "outputs": [],
   "source": [
    "adata.raw = adata"
   ]
  },
  {
   "cell_type": "code",
   "execution_count": null,
   "id": "d576774a",
   "metadata": {},
   "outputs": [],
   "source": [
    "sc.pp.regress_out(adata, ['total_counts', 'pct_counts_mt', 'pct_counts_rb'], n_jobs=12)"
   ]
  },
  {
   "cell_type": "code",
   "execution_count": null,
   "id": "a9f9dc3a",
   "metadata": {},
   "outputs": [],
   "source": [
    "sc.pp.scale(adata, max_value=10)\n",
    "sc.tl.pca(adata, svd_solver='arpack')"
   ]
  },
  {
   "cell_type": "code",
   "execution_count": null,
   "id": "21e9e911",
   "metadata": {},
   "outputs": [],
   "source": [
    "sc.external.pp.harmony_integrate(adata, 'subject', max_iter_harmony=50)"
   ]
  },
  {
   "cell_type": "code",
   "execution_count": null,
   "id": "a34207b4",
   "metadata": {},
   "outputs": [],
   "source": [
    "sc.pp.neighbors(adata, use_rep='X_pca_harmony', n_pcs=45, random_state=0)\n",
    "#sc.pp.neighbors(adata,n_pcs=45, random_state=0)"
   ]
  },
  {
   "cell_type": "code",
   "execution_count": null,
   "id": "8647789b",
   "metadata": {},
   "outputs": [],
   "source": [
    "sc.tl.umap(adata, random_state=0)"
   ]
  },
  {
   "cell_type": "code",
   "execution_count": null,
   "id": "94e4f959",
   "metadata": {},
   "outputs": [],
   "source": [
    "sc.tl.leiden(adata, resolution=1, random_state=0)"
   ]
  },
  {
   "cell_type": "code",
   "execution_count": null,
   "id": "fd285908",
   "metadata": {
    "scrolled": true
   },
   "outputs": [],
   "source": [
    "sc.pl.umap(adata, color='library', title='')"
   ]
  },
  {
   "cell_type": "code",
   "execution_count": null,
   "id": "ca9fa3e5-f0bb-43d2-ab6e-d07c3554c0e7",
   "metadata": {},
   "outputs": [],
   "source": [
    "sc.pl.umap(adata, color='library', title='', groups='SFFFM')"
   ]
  },
  {
   "cell_type": "code",
   "execution_count": null,
   "id": "edfc5207",
   "metadata": {},
   "outputs": [],
   "source": [
    "sc.pl.umap(adata, color='sample', title='')"
   ]
  },
  {
   "cell_type": "code",
   "execution_count": null,
   "id": "9ea7b645-4c95-41cc-bb48-3741aa959f00",
   "metadata": {},
   "outputs": [],
   "source": [
    "sc.pl.umap(adata, color='leiden', title='')"
   ]
  },
  {
   "cell_type": "code",
   "execution_count": null,
   "id": "2f772d96-c165-4fc6-9911-472a9315d4e1",
   "metadata": {
    "scrolled": true
   },
   "outputs": [],
   "source": [
    "sc.pl.umap(adata, color='subject', title='')"
   ]
  },
  {
   "cell_type": "code",
   "execution_count": null,
   "id": "a343b8ea-a79f-412a-8b42-23533fb0cffa",
   "metadata": {
    "scrolled": true
   },
   "outputs": [],
   "source": [
    "sc.pl.umap(adata, color='scDblFinder_DropletType', title='')"
   ]
  },
  {
   "cell_type": "code",
   "execution_count": null,
   "id": "213bbe6f",
   "metadata": {},
   "outputs": [],
   "source": [
    "import celltypist\n",
    "from celltypist import models"
   ]
  },
  {
   "cell_type": "code",
   "execution_count": null,
   "id": "685a1045",
   "metadata": {},
   "outputs": [],
   "source": [
    "import time"
   ]
  },
  {
   "cell_type": "code",
   "execution_count": null,
   "id": "b0e86bc6-e149-4387-80f0-53793f9c3a18",
   "metadata": {},
   "outputs": [],
   "source": [
    "model = '/Users/jonathankropski/Desktop/model_from_gse227163.pkl'"
   ]
  },
  {
   "cell_type": "code",
   "execution_count": null,
   "id": "b3b37034",
   "metadata": {},
   "outputs": [],
   "source": [
    "t_start = time.time()\n",
    "predictions = celltypist.annotate(adata, model = model)\n",
    "t_end = time.time()\n",
    "print(f\"Time elapsed: {t_end - t_start} seconds\")"
   ]
  },
  {
   "cell_type": "code",
   "execution_count": null,
   "id": "5d6f0782",
   "metadata": {},
   "outputs": [],
   "source": [
    "t_start = time.time()\n",
    "predictions = celltypist.annotate(adata, model = model, majority_voting = True)\n",
    "t_end = time.time()\n",
    "print(f\"Time elapsed: {t_end - t_start} seconds\")"
   ]
  },
  {
   "cell_type": "code",
   "execution_count": null,
   "id": "25a0dc7f",
   "metadata": {},
   "outputs": [],
   "source": [
    "predictions"
   ]
  },
  {
   "cell_type": "code",
   "execution_count": null,
   "id": "83fee320",
   "metadata": {},
   "outputs": [],
   "source": [
    "adata = predictions.to_adata()"
   ]
  },
  {
   "cell_type": "code",
   "execution_count": null,
   "id": "799b3c8d",
   "metadata": {
    "scrolled": true
   },
   "outputs": [],
   "source": [
    "sc.set_figure_params(dpi=100, figsize=(4,4))\n",
    "sc.pl.umap(adata, color='majority_voting', title='')"
   ]
  },
  {
   "cell_type": "code",
   "execution_count": null,
   "id": "f896896a-68b4-466a-b023-61c92f15f0a2",
   "metadata": {},
   "outputs": [],
   "source": []
  },
  {
   "cell_type": "code",
   "execution_count": null,
   "id": "d5e3893d-1cfa-4fde-a43d-5b1bc61dc112",
   "metadata": {},
   "outputs": [],
   "source": [
    "sc.pl.umap(adata, color=['SFTPC', 'COL1A1', 'SCGB3A2', 'AGER'])\n",
    "sc.pl.umap(adata, color=['TP63', 'CHGA', 'KRT8', 'LAMP3'])\n",
    "sc.pl.umap(adata, color=['KRT17', 'COL4A3', 'VEGFA', 'RTKN2'])"
   ]
  },
  {
   "cell_type": "code",
   "execution_count": null,
   "id": "31bf59db",
   "metadata": {},
   "outputs": [],
   "source": [
    "markers = ['COL1A1', 'ACTA2', 'FN1', 'ITGAV', 'CDH2', 'CDH3', 'EPCAM', 'NKX2-1', 'SOX2', 'TP63', 'KRT5', 'KRT17', 'FOXJ1', 'SCGB1A1', 'MUC5AC', 'SCGB3A2', 'SFTPB', 'ETV5', 'CEBPA', 'SFTPC', 'LAMP3', 'ABCA3', 'KRT8', 'CLDN4', 'CDKN2A', 'HOPX', 'AGER', 'RTKN2', 'MSLN', 'COL4A3', 'VEGFA', 'PDGFA', 'CALCA', 'CHGA', 'POU2F3', 'VIM', 'CA9', 'HIF1A', 'EPAS1', 'WWTR1', 'YAP1', 'MKI67']\n"
   ]
  },
  {
   "cell_type": "code",
   "execution_count": null,
   "id": "54876158",
   "metadata": {},
   "outputs": [],
   "source": [
    "sc.tl.dendrogram(adata, groupby='majority_voting')\n",
    "sc.pl.dotplot(adata, markers, groupby='majority_voting', dendrogram=True, standard_scale='var', cmap='Blues', use_raw=True)"
   ]
  },
  {
   "cell_type": "code",
   "execution_count": null,
   "id": "532421a2-a895-4d68-b947-784cd5c9fec3",
   "metadata": {},
   "outputs": [],
   "source": []
  },
  {
   "cell_type": "code",
   "execution_count": null,
   "id": "cfcdaef4-b2cb-4086-ad0b-02a42132ab7f",
   "metadata": {},
   "outputs": [],
   "source": [
    "sc.tl.dendrogram(adata, groupby='condition')\n",
    "sc.pl.dotplot(adata, markers, groupby='condition', dendrogram=True, standard_scale='var', cmap='Blues', use_raw=True)"
   ]
  },
  {
   "cell_type": "code",
   "execution_count": null,
   "id": "b1035f12-d4fb-4e09-a544-48a7f8eef837",
   "metadata": {
    "scrolled": true
   },
   "outputs": [],
   "source": [
    "sc.set_figure_params(dpi=100, figsize=(6,6))\n",
    "sc.pl.umap(adata, color='leiden', title='', legend_loc='on data', legend_fontsize='x-small')"
   ]
  },
  {
   "cell_type": "code",
   "execution_count": null,
   "id": "67504b27-e8b4-4f0c-abfb-f0c4f06798a9",
   "metadata": {},
   "outputs": [],
   "source": [
    "sc.set_figure_params(dpi=100, figsize=(12,4))\n",
    "sc.pl.violin(adata, 'n_genes', groupby='sample', rotation=90)\n",
    "sc.pl.violin(adata, 'n_genes', groupby='leiden', rotation=90)\n"
   ]
  },
  {
   "cell_type": "code",
   "execution_count": null,
   "id": "9b2d149b-113e-4a0f-8ff5-bfd65573d04c",
   "metadata": {},
   "outputs": [],
   "source": [
    "sc.tl.dendrogram(adata, groupby='leiden')\n",
    "sc.pl.dotplot(adata, markers, groupby='leiden', dendrogram=True, standard_scale='var', cmap='Blues', use_raw=True)"
   ]
  },
  {
   "cell_type": "code",
   "execution_count": null,
   "id": "f292a933",
   "metadata": {},
   "outputs": [],
   "source": [
    "pd.crosstab(adata.obs['condition'], adata.obs['majority_voting'])"
   ]
  },
  {
   "cell_type": "code",
   "execution_count": null,
   "id": "0ec4b7ce-87e1-4ec5-aef3-fdd7953551a2",
   "metadata": {},
   "outputs": [],
   "source": [
    "pd.crosstab(adata.obs['sample'], adata.obs['majority_voting'])"
   ]
  },
  {
   "cell_type": "code",
   "execution_count": null,
   "id": "1158659a-cdd0-4322-8597-39e002cc0061",
   "metadata": {},
   "outputs": [],
   "source": [
    "sc.tl.rank_genes_groups(adata, 'leiden', method='wilcoxon')\n",
    "sc.pl.rank_genes_groups(adata, n_genes=25, sharey=False)"
   ]
  },
  {
   "cell_type": "code",
   "execution_count": null,
   "id": "76572d87-5b28-4944-8127-a29cd2e5d980",
   "metadata": {},
   "outputs": [],
   "source": [
    "sc.set_figure_params(figsize=(4,4))\n",
    "sc.pl.rank_genes_groups(adata, n_genes=25, sharey=False)"
   ]
  },
  {
   "cell_type": "code",
   "execution_count": null,
   "id": "f0685526-1900-4483-9541-d0c1bb3ab497",
   "metadata": {},
   "outputs": [],
   "source": []
  },
  {
   "cell_type": "code",
   "execution_count": null,
   "id": "220373aa-6a41-4319-b0fc-14d735a1ad2d",
   "metadata": {
    "scrolled": true
   },
   "outputs": [],
   "source": [
    "at2 = adata[adata.obs['library'].isin(['SFFFM', 'SFFFM + PT-2385'])]\n",
    "at2"
   ]
  },
  {
   "cell_type": "code",
   "execution_count": null,
   "id": "2b027017-dc63-415f-b3d6-33dedffb3a65",
   "metadata": {},
   "outputs": [],
   "source": [
    "sc.pp.scale(at2, max_value=10)\n",
    "sc.tl.pca(at2, svd_solver='arpack')"
   ]
  },
  {
   "cell_type": "code",
   "execution_count": null,
   "id": "d5be529e-4c2e-4efc-a871-c761efde1adf",
   "metadata": {},
   "outputs": [],
   "source": [
    "#sc.external.pp.harmony_integrate(adata, 'library', max_iter_harmony=50)"
   ]
  },
  {
   "cell_type": "code",
   "execution_count": null,
   "id": "54b4329e-f652-4003-b6e4-7cd1632016f7",
   "metadata": {},
   "outputs": [],
   "source": [
    "#sc.pp.neighbors(adata, use_rep='X_pca_harmony', n_pcs=45, random_state=0)\n",
    "sc.pp.neighbors(at2,n_pcs=45, random_state=0)"
   ]
  },
  {
   "cell_type": "code",
   "execution_count": null,
   "id": "0858d6c6-fa35-4b6f-8f20-5b2e4653eb66",
   "metadata": {},
   "outputs": [],
   "source": [
    "sc.tl.umap(at2, random_state=0)"
   ]
  },
  {
   "cell_type": "code",
   "execution_count": null,
   "id": "577c78f9-0829-4ed0-9fae-b03291befa95",
   "metadata": {},
   "outputs": [],
   "source": [
    "sc.tl.leiden(at2, resolution=1, random_state=0)"
   ]
  },
  {
   "cell_type": "code",
   "execution_count": null,
   "id": "e841f9dd-f38d-4303-a9d6-6c6150c5c934",
   "metadata": {
    "scrolled": true
   },
   "outputs": [],
   "source": [
    "sc.pl.umap(at2, color='library', title='')"
   ]
  },
  {
   "cell_type": "code",
   "execution_count": null,
   "id": "4fc4665f-904c-4f77-b47c-1fc5373764f3",
   "metadata": {},
   "outputs": [],
   "source": [
    "sc.pl.umap(at2, color='sample', title='')"
   ]
  },
  {
   "cell_type": "code",
   "execution_count": null,
   "id": "0ca5fe16-d90b-41d9-9b80-45e219bcdb44",
   "metadata": {},
   "outputs": [],
   "source": [
    "sc.pl.umap(at2, color='leiden', title='')"
   ]
  },
  {
   "cell_type": "code",
   "execution_count": null,
   "id": "d8149739-f37a-4e41-ab77-804ea8b128d8",
   "metadata": {},
   "outputs": [],
   "source": [
    "sc.pl.umap(at2, color='Vireo_Individual_Assignment', title='')"
   ]
  },
  {
   "cell_type": "code",
   "execution_count": null,
   "id": "9fd64aa0-ea9c-4aa7-b31b-157fb7347b29",
   "metadata": {
    "scrolled": true
   },
   "outputs": [],
   "source": [
    "sc.pl.umap(at2, color='Vireo_DropletType', title='')"
   ]
  },
  {
   "cell_type": "code",
   "execution_count": null,
   "id": "20edc3bc-0d84-4363-a482-74b1af62eb06",
   "metadata": {},
   "outputs": [],
   "source": [
    "import celltypist\n",
    "from celltypist import models"
   ]
  },
  {
   "cell_type": "code",
   "execution_count": null,
   "id": "ccc40fcd-894f-414d-8570-f4282b8d3cf5",
   "metadata": {},
   "outputs": [],
   "source": [
    "import time"
   ]
  },
  {
   "cell_type": "code",
   "execution_count": null,
   "id": "45577d46-a4e1-4437-a9db-0d53bb761acd",
   "metadata": {},
   "outputs": [],
   "source": [
    "model = '/Users/jonathankropski/Desktop/model_from_gse227163.pkl'"
   ]
  },
  {
   "cell_type": "code",
   "execution_count": null,
   "id": "24985e89-dfc5-479a-a934-582a68707104",
   "metadata": {},
   "outputs": [],
   "source": [
    "t_start = time.time()\n",
    "predictions = celltypist.annotate(at2, model = model)\n",
    "t_end = time.time()\n",
    "print(f\"Time elapsed: {t_end - t_start} seconds\")"
   ]
  },
  {
   "cell_type": "code",
   "execution_count": null,
   "id": "ddd7002d-9998-4f7a-87e5-64c3fefdf2d5",
   "metadata": {},
   "outputs": [],
   "source": [
    "t_start = time.time()\n",
    "predictions = celltypist.annotate(at2, model = model, majority_voting = True)\n",
    "t_end = time.time()\n",
    "print(f\"Time elapsed: {t_end - t_start} seconds\")"
   ]
  },
  {
   "cell_type": "code",
   "execution_count": null,
   "id": "61ea5f2a-044f-4ab2-9bc9-e60cb1050faa",
   "metadata": {},
   "outputs": [],
   "source": [
    "predictions"
   ]
  },
  {
   "cell_type": "code",
   "execution_count": null,
   "id": "6d8c5c62-fe91-40f7-8bd7-3eb474c3584a",
   "metadata": {},
   "outputs": [],
   "source": [
    "at2 = predictions.to_adata()"
   ]
  },
  {
   "cell_type": "code",
   "execution_count": null,
   "id": "7224f671-a531-4487-b1bc-85388f87a54e",
   "metadata": {},
   "outputs": [],
   "source": [
    "sc.set_figure_params(dpi=100, figsize=(4,4))\n",
    "sc.pl.umap(at2, color='majority_voting', title='', save='AT2_media.png')"
   ]
  },
  {
   "cell_type": "code",
   "execution_count": null,
   "id": "19d9c93b-cbd6-4965-a4c5-3e8d006097a1",
   "metadata": {},
   "outputs": [],
   "source": [
    "sc.pl.umap(at2, color=['SFTPC', 'COL1A1', 'SCGB3A2', 'AGER'])\n",
    "sc.pl.umap(at2, color=['TP63', 'CHGA', 'KRT8', 'LAMP3'])\n",
    "sc.pl.umap(at2, color=['KRT17', 'COL4A3', 'VEGFA', 'RTKN2'])"
   ]
  },
  {
   "cell_type": "code",
   "execution_count": null,
   "id": "bfc313a3-3092-40c3-b1f9-9da7b98ff1ff",
   "metadata": {},
   "outputs": [],
   "source": [
    "markers = ['COL1A1', 'ACTA2', 'FN1', 'ITGAV', 'CDH2', 'CDH3', 'EPCAM', 'NKX2-1', 'SOX2', 'TP63', 'KRT5', 'KRT17', 'FOXJ1', 'SCGB1A1', 'MUC5AC', 'SCGB3A2', 'SFTPB', 'ETV5', 'CEBPA', 'SFTPC', 'LAMP3', 'ABCA3', 'KRT8', 'CLDN4', 'CDKN2A', 'HOPX', 'AGER', 'RTKN2', 'MSLN', 'COL4A3', 'VEGFA', 'PDGFA', 'CALCA', 'CHGA', 'POU2F3', 'VIM', 'CA9', 'HIF1A', 'EPAS1', 'WWTR1', 'YAP1', 'MKI67']\n"
   ]
  },
  {
   "cell_type": "code",
   "execution_count": null,
   "id": "c6ce1983-51f7-4456-b23b-c85302d6c0eb",
   "metadata": {},
   "outputs": [],
   "source": [
    "sc.tl.dendrogram(at2, groupby='majority_voting')\n",
    "sc.pl.dotplot(at2, markers, groupby='majority_voting', dendrogram=True, standard_scale='var', cmap='Blues', use_raw=True, save='AT2_media_markers.png')"
   ]
  },
  {
   "cell_type": "code",
   "execution_count": null,
   "id": "a90b0abc-d330-44a4-a22b-17aead43aaaf",
   "metadata": {},
   "outputs": [],
   "source": [
    "sc.tl.dendrogram(at2, groupby='condition')\n",
    "sc.pl.dotplot(at2, markers, groupby='condition', dendrogram=True, standard_scale='var', cmap='Blues', use_raw=True)"
   ]
  },
  {
   "cell_type": "code",
   "execution_count": null,
   "id": "c44decf1-acf2-49ab-af2c-2dd2641bf248",
   "metadata": {
    "scrolled": true
   },
   "outputs": [],
   "source": [
    "sc.set_figure_params(dpi=100, figsize=(6,6))\n",
    "sc.pl.umap(at2, color='leiden', title='', legend_loc='on data', legend_fontsize='x-small')"
   ]
  },
  {
   "cell_type": "code",
   "execution_count": null,
   "id": "f5317547-d76e-400b-a1dd-595dc55dad97",
   "metadata": {
    "scrolled": true
   },
   "outputs": [],
   "source": [
    "pd.crosstab(at2.obs['condition'], at2.obs['majority_voting'], normalize='index')"
   ]
  },
  {
   "cell_type": "code",
   "execution_count": null,
   "id": "f0e419d6-bc11-4001-8359-30af4b90d746",
   "metadata": {},
   "outputs": [],
   "source": []
  },
  {
   "cell_type": "code",
   "execution_count": null,
   "id": "613df5d7-e465-4558-8634-877cbee3ac50",
   "metadata": {},
   "outputs": [],
   "source": [
    "###ADM analysis"
   ]
  },
  {
   "cell_type": "code",
   "execution_count": null,
   "id": "96054877-5d5f-4de8-83bf-f494231690d0",
   "metadata": {
    "scrolled": true
   },
   "outputs": [],
   "source": [
    "adm = adata[adata.obs['library'].isin(['ADM', 'ADM + PT-2385'])]\n",
    "adm"
   ]
  },
  {
   "cell_type": "code",
   "execution_count": null,
   "id": "983740a8-d5e2-4f9b-b261-5d21b87e0a23",
   "metadata": {},
   "outputs": [],
   "source": [
    "sc.pp.scale(adm, max_value=10)\n",
    "sc.tl.pca(adm, svd_solver='arpack')"
   ]
  },
  {
   "cell_type": "code",
   "execution_count": null,
   "id": "8d72b2ef-0f9d-4859-80cb-21384e838215",
   "metadata": {},
   "outputs": [],
   "source": [
    "#sc.external.pp.harmony_integrate(adata, 'library', max_iter_harmony=50)"
   ]
  },
  {
   "cell_type": "code",
   "execution_count": null,
   "id": "6b361821-5aca-4046-b268-9a647f5013b8",
   "metadata": {},
   "outputs": [],
   "source": [
    "#sc.pp.neighbors(adata, use_rep='X_pca_harmony', n_pcs=45, random_state=0)\n",
    "sc.pp.neighbors(adm,n_pcs=45, random_state=0)"
   ]
  },
  {
   "cell_type": "code",
   "execution_count": null,
   "id": "31312c09-a707-469b-b471-64119ec21806",
   "metadata": {},
   "outputs": [],
   "source": [
    "sc.tl.umap(adm, random_state=0)"
   ]
  },
  {
   "cell_type": "code",
   "execution_count": null,
   "id": "5d13c678-d128-4c31-a744-01cdc9d3c2a0",
   "metadata": {},
   "outputs": [],
   "source": [
    "sc.tl.leiden(adm, resolution=1, random_state=0)"
   ]
  },
  {
   "cell_type": "code",
   "execution_count": null,
   "id": "48a41397-8f19-46e9-9750-cbf03dad89d0",
   "metadata": {
    "scrolled": true
   },
   "outputs": [],
   "source": [
    "sc.pl.umap(adm, color='library', title='')"
   ]
  },
  {
   "cell_type": "code",
   "execution_count": null,
   "id": "0fb2bb65-887b-44f9-8879-dbc325ae898e",
   "metadata": {},
   "outputs": [],
   "source": [
    "sc.pl.umap(adm, color='sample', title='')"
   ]
  },
  {
   "cell_type": "code",
   "execution_count": null,
   "id": "8b43edd8-4e7c-42ad-93ba-1e969504178f",
   "metadata": {},
   "outputs": [],
   "source": [
    "sc.pl.umap(adm, color='leiden', title='')"
   ]
  },
  {
   "cell_type": "code",
   "execution_count": null,
   "id": "4509ae9f-477e-4907-b26c-19948f8a5949",
   "metadata": {},
   "outputs": [],
   "source": [
    "sc.pl.umap(adm, color='Vireo_Individual_Assignment', title='', save='adm_donor.png')"
   ]
  },
  {
   "cell_type": "code",
   "execution_count": null,
   "id": "fabf46de-20bc-4a1d-84d4-fe7f73a31ab8",
   "metadata": {},
   "outputs": [],
   "source": [
    "sc.pl.umap(adm, color='Vireo_DropletType', title='')"
   ]
  },
  {
   "cell_type": "code",
   "execution_count": null,
   "id": "f357953a-8806-43b9-a9db-e044585f3987",
   "metadata": {},
   "outputs": [],
   "source": [
    "import celltypist\n",
    "from celltypist import models"
   ]
  },
  {
   "cell_type": "code",
   "execution_count": null,
   "id": "6c217f1d-765d-4ead-82f4-29f54e1ae66d",
   "metadata": {},
   "outputs": [],
   "source": [
    "import time"
   ]
  },
  {
   "cell_type": "code",
   "execution_count": null,
   "id": "441bbd4c-8c2e-4cac-bc54-164bebf4e6f5",
   "metadata": {},
   "outputs": [],
   "source": [
    "model = '/Users/jonathankropski/Desktop/model_from_gse227163.pkl'"
   ]
  },
  {
   "cell_type": "code",
   "execution_count": null,
   "id": "fc26586c-4da4-4360-95a6-9cb14211a183",
   "metadata": {},
   "outputs": [],
   "source": [
    "t_start = time.time()\n",
    "predictions = celltypist.annotate(adm, model = model)\n",
    "t_end = time.time()\n",
    "print(f\"Time elapsed: {t_end - t_start} seconds\")"
   ]
  },
  {
   "cell_type": "code",
   "execution_count": null,
   "id": "ecb5e7a0-e337-4b27-b997-10637c111624",
   "metadata": {},
   "outputs": [],
   "source": [
    "t_start = time.time()\n",
    "predictions = celltypist.annotate(adm, model = model, majority_voting = True)\n",
    "t_end = time.time()\n",
    "print(f\"Time elapsed: {t_end - t_start} seconds\")"
   ]
  },
  {
   "cell_type": "code",
   "execution_count": null,
   "id": "fad0e3f7-0857-4d35-92d6-b48354a430c8",
   "metadata": {},
   "outputs": [],
   "source": [
    "predictions"
   ]
  },
  {
   "cell_type": "code",
   "execution_count": null,
   "id": "dc759ced-8fe7-4889-8143-0ab18cbe2e36",
   "metadata": {},
   "outputs": [],
   "source": [
    "adm = predictions.to_adata()"
   ]
  },
  {
   "cell_type": "code",
   "execution_count": null,
   "id": "c2a6f15c-ad7b-4a12-bfe9-4db4c69947f2",
   "metadata": {},
   "outputs": [],
   "source": [
    "sc.set_figure_params(dpi=100, figsize=(4,4))\n",
    "sc.pl.umap(adm, color='majority_voting', title='', save='ADM.png')"
   ]
  },
  {
   "cell_type": "code",
   "execution_count": null,
   "id": "198efbdf-dea1-4980-9496-7eb4eae5b4d3",
   "metadata": {},
   "outputs": [],
   "source": [
    "sc.pl.umap(adm, color=['SFTPC', 'COL1A1', 'SCGB3A2', 'AGER'])\n",
    "sc.pl.umap(adm, color=['TP63', 'CHGA', 'KRT8', 'LAMP3'])\n",
    "sc.pl.umap(adm, color=['KRT17', 'COL4A3', 'VEGFA', 'RTKN2'])"
   ]
  },
  {
   "cell_type": "code",
   "execution_count": null,
   "id": "29f87392-8e0f-4186-b0a6-d39720e9e034",
   "metadata": {},
   "outputs": [],
   "source": [
    "markers = ['COL1A1', 'ACTA2', 'FN1', 'ITGAV', 'CDH2', 'CDH3', 'EPCAM', 'NKX2-1', 'SOX2', 'TP63', 'KRT5', 'KRT17', 'FOXJ1', 'SCGB1A1', 'MUC5AC', 'SCGB3A2', 'SFTPB', 'ETV5', 'CEBPA', 'SFTPC', 'LAMP3', 'ABCA3', 'KRT8', 'CLDN4', 'CDKN2A', 'HOPX', 'AGER', 'RTKN2', 'MSLN', 'COL4A3', 'VEGFA', 'PDGFA', 'ASCL1', 'CALCA', 'CHGA', 'POU2F3', 'VIM', 'CA9', 'HIF1A', 'EPAS1', 'WWTR1', 'YAP1', 'MKI67']\n"
   ]
  },
  {
   "cell_type": "code",
   "execution_count": null,
   "id": "0fb97825-d353-492e-9472-9acd873e05b8",
   "metadata": {},
   "outputs": [],
   "source": [
    "sc.tl.dendrogram(adm, groupby='majority_voting')\n",
    "sc.pl.dotplot(adm, markers, groupby='majority_voting', dendrogram=True, standard_scale='var', cmap='Blues', use_raw=True, save='adm_markers.png')"
   ]
  },
  {
   "cell_type": "code",
   "execution_count": null,
   "id": "78bddfcf-fd91-4bff-9195-42c6c4d5604c",
   "metadata": {},
   "outputs": [],
   "source": [
    "sc.tl.dendrogram(adm, groupby='sample')\n",
    "sc.pl.dotplot(adm, markers, groupby='sample', dendrogram=True, standard_scale='var', cmap='Blues', use_raw=True)"
   ]
  },
  {
   "cell_type": "code",
   "execution_count": null,
   "id": "da7a3758-cc32-4724-9015-dc17a44ae097",
   "metadata": {},
   "outputs": [],
   "source": [
    "sc.tl.dendrogram(adm, groupby='leiden')\n",
    "sc.pl.dotplot(adm, markers, groupby='leiden', dendrogram=True, standard_scale='var', cmap='Blues', use_raw=True)"
   ]
  },
  {
   "cell_type": "code",
   "execution_count": null,
   "id": "7149ac3f-f3b1-42ae-a8fd-0ca4811b620b",
   "metadata": {
    "scrolled": true
   },
   "outputs": [],
   "source": [
    "sc.set_figure_params(dpi=100, figsize=(6,6))\n",
    "sc.pl.umap(adm, color='leiden', title='', legend_loc='on data', legend_fontsize='x-small')"
   ]
  },
  {
   "cell_type": "code",
   "execution_count": null,
   "id": "ce8b7821-f706-4766-a13b-1f142ace7d43",
   "metadata": {
    "scrolled": true
   },
   "outputs": [],
   "source": [
    "pd.crosstab(adm.obs['sample'], adm.obs['majority_voting'], normalize='index')"
   ]
  },
  {
   "cell_type": "code",
   "execution_count": null,
   "id": "84665eb9-22bf-4cf4-9c1c-4d406c6f03fd",
   "metadata": {},
   "outputs": [],
   "source": [
    "pd.crosstab(adm.obs['sample'], adm.obs['leiden'], normalize='index')"
   ]
  },
  {
   "cell_type": "code",
   "execution_count": null,
   "id": "73e8c96a-15de-4905-abe2-e22ba612f8d9",
   "metadata": {},
   "outputs": [],
   "source": []
  },
  {
   "cell_type": "code",
   "execution_count": null,
   "id": "b71f18e7",
   "metadata": {},
   "outputs": [],
   "source": [
    "sc.tl.rank_genes_groups(adm, 'leiden', method='wilcoxon')\n",
    "sc.pl.rank_genes_groups(adm, n_genes=25, sharey=False)"
   ]
  },
  {
   "cell_type": "code",
   "execution_count": null,
   "id": "5f3a0d0e",
   "metadata": {},
   "outputs": [],
   "source": []
  },
  {
   "cell_type": "code",
   "execution_count": null,
   "id": "113d9fd8-5a13-41f4-a769-c33421e28eef",
   "metadata": {},
   "outputs": [],
   "source": []
  }
 ],
 "metadata": {
  "kernelspec": {
   "display_name": "Python 3 (ipykernel)",
   "language": "python",
   "name": "python3"
  },
  "language_info": {
   "codemirror_mode": {
    "name": "ipython",
    "version": 3
   },
   "file_extension": ".py",
   "mimetype": "text/x-python",
   "name": "python",
   "nbconvert_exporter": "python",
   "pygments_lexer": "ipython3",
   "version": "3.10.13"
  }
 },
 "nbformat": 4,
 "nbformat_minor": 5
}
